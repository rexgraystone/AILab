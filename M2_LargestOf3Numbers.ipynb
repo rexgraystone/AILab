{
 "cells": [
  {
   "cell_type": "markdown",
   "id": "d732ff5b-4f57-4c18-b1b9-a49decd3e3c8",
   "metadata": {},
   "source": [
    "# M2. Finding the largest of 3 numbers"
   ]
  },
  {
   "cell_type": "code",
   "execution_count": 4,
   "id": "72260da4-c77d-43b4-9f03-2f4f2d2bb83d",
   "metadata": {},
   "outputs": [
    {
     "name": "stdin",
     "output_type": "stream",
     "text": [
      "Enter the first number 5\n",
      "Enter the second number 6\n",
      "Enter the third number 4\n"
     ]
    }
   ],
   "source": [
    "num1 = int(input(\"Enter the first number\"))\n",
    "num2 = int(input(\"Enter the second number\"))\n",
    "num3 = int(input(\"Enter the third number\"))"
   ]
  },
  {
   "cell_type": "code",
   "execution_count": 6,
   "id": "88f3d72d-358b-4656-a097-b5af3d91ea58",
   "metadata": {},
   "outputs": [
    {
     "name": "stdout",
     "output_type": "stream",
     "text": [
      "6 is the greatest of the 3 numbers.\n"
     ]
    }
   ],
   "source": [
    "if(num1 > num2):\n",
    "    if(num1 > num3):\n",
    "        print(f\"{num1} is the greatest of the 3 numbers.\")\n",
    "    else:\n",
    "        print(f\"{num3} is the greatest of the 3 numbers.\")\n",
    "else:\n",
    "    if(num2 > num3):\n",
    "        print(f\"{num2} is the greatest of the 3 numbers.\")\n",
    "    else:\n",
    "        print(f\"{num3} is the greatest of the 3 numbers.\")"
   ]
  }
 ],
 "metadata": {
  "kernelspec": {
   "display_name": "Python 3 (ipykernel)",
   "language": "python",
   "name": "python3"
  },
  "language_info": {
   "codemirror_mode": {
    "name": "ipython",
    "version": 3
   },
   "file_extension": ".py",
   "mimetype": "text/x-python",
   "name": "python",
   "nbconvert_exporter": "python",
   "pygments_lexer": "ipython3",
   "version": "3.11.0"
  }
 },
 "nbformat": 4,
 "nbformat_minor": 5
}
