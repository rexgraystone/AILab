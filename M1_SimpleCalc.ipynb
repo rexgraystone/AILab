{
 "cells": [
  {
   "cell_type": "markdown",
   "id": "4b37cb4d-8d08-4644-912d-67f253a00283",
   "metadata": {},
   "source": [
    "# M1. Simple Calculator"
   ]
  },
  {
   "cell_type": "code",
   "execution_count": 14,
   "id": "2267dc5b-591a-407d-9c60-b0c7ae354154",
   "metadata": {},
   "outputs": [
    {
     "name": "stdin",
     "output_type": "stream",
     "text": [
      "Enter the first number 5\n",
      "Enter the second number 10\n"
     ]
    }
   ],
   "source": [
    "num1 = int(input(\"Enter the first number\"))\n",
    "num2 = int(input(\"Enter the second number\"))"
   ]
  },
  {
   "cell_type": "code",
   "execution_count": 15,
   "id": "c2e81385-fca2-4b3a-9906-bf3c567ab774",
   "metadata": {
    "tags": []
   },
   "outputs": [
    {
     "name": "stdout",
     "output_type": "stream",
     "text": [
      "1. Addition\n",
      "2. Subtraction\n",
      "3. Multiplication\n",
      "4. Division\n",
      "5. Remainder\n"
     ]
    },
    {
     "name": "stdin",
     "output_type": "stream",
     "text": [
      "\n",
      "Enter your choice:  1\n"
     ]
    }
   ],
   "source": [
    "print(\"1. Addition\\n2. Subtraction\\n3. Multiplication\\n4. Division\\n5. Remainder\")\n",
    "opt = int(input(\"\\nEnter your choice: \"))"
   ]
  },
  {
   "cell_type": "code",
   "execution_count": 16,
   "id": "4396f362-884d-42fc-9e3c-da8bfbb4cdec",
   "metadata": {},
   "outputs": [
    {
     "name": "stdout",
     "output_type": "stream",
     "text": [
      "The sum of 5 and 10 is 15.\n"
     ]
    }
   ],
   "source": [
    "match opt:\n",
    "    case 1:\n",
    "        print(f\"The sum of {num1} and {num2} is {num1 + num2}.\")\n",
    "    case 2:\n",
    "        print(f\"The difference between {num1} and {num2} is {num1 - num2}.\")\n",
    "    case 3:\n",
    "        print(f\"The product of {num1} and {num2} is {num1 * num2}.\")\n",
    "    case 4:\n",
    "        print(f\"The quotient of {num1} and {num2} is {num1 / num2}.\")\n",
    "    case 5:\n",
    "        print(f\"The remainder of {num1} and {num2} is {num1 % num2}.\")\n",
    "    case other:\n",
    "        print(\"Invalid option\")"
   ]
  }
 ],
 "metadata": {
  "kernelspec": {
   "display_name": "Python 3 (ipykernel)",
   "language": "python",
   "name": "python3"
  },
  "language_info": {
   "codemirror_mode": {
    "name": "ipython",
    "version": 3
   },
   "file_extension": ".py",
   "mimetype": "text/x-python",
   "name": "python",
   "nbconvert_exporter": "python",
   "pygments_lexer": "ipython3",
   "version": "3.11.0"
  }
 },
 "nbformat": 4,
 "nbformat_minor": 5
}
